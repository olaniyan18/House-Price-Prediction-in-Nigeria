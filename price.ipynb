{
 "cells": [
  {
   "cell_type": "markdown",
   "metadata": {},
   "source": [
    "## Understanding House Prices in Nigeria: A Market Overview\n",
    "\n",
    "Real estate in Nigeria is a dynamic and growing sector, driven by factors such as population growth, urbanization, and increased demand for housing. However, house prices can vary significantly across regions, with cities like Lagos, Abuja, and Port Harcourt experiencing higher property values compared to other parts of the country."
   ]
  },
  {
   "cell_type": "code",
   "execution_count": 1,
   "metadata": {},
   "outputs": [],
   "source": [
    "#importing libraries needed\n",
    "\n",
    "import pandas as pd\n",
    "import seaborn as sns\n",
    "import matplotlib.pyplot as plt\n"
   ]
  },
  {
   "cell_type": "code",
   "execution_count": 2,
   "metadata": {},
   "outputs": [
    {
     "data": {
      "text/html": [
       "<div>\n",
       "<style scoped>\n",
       "    .dataframe tbody tr th:only-of-type {\n",
       "        vertical-align: middle;\n",
       "    }\n",
       "\n",
       "    .dataframe tbody tr th {\n",
       "        vertical-align: top;\n",
       "    }\n",
       "\n",
       "    .dataframe thead th {\n",
       "        text-align: right;\n",
       "    }\n",
       "</style>\n",
       "<table border=\"1\" class=\"dataframe\">\n",
       "  <thead>\n",
       "    <tr style=\"text-align: right;\">\n",
       "      <th></th>\n",
       "      <th>bedrooms</th>\n",
       "      <th>bathrooms</th>\n",
       "      <th>toilets</th>\n",
       "      <th>parking_space</th>\n",
       "      <th>title</th>\n",
       "      <th>town</th>\n",
       "      <th>state</th>\n",
       "      <th>price</th>\n",
       "    </tr>\n",
       "  </thead>\n",
       "  <tbody>\n",
       "    <tr>\n",
       "      <th>0</th>\n",
       "      <td>6.0</td>\n",
       "      <td>5.0</td>\n",
       "      <td>5.0</td>\n",
       "      <td>4.0</td>\n",
       "      <td>Detached Duplex</td>\n",
       "      <td>Mabushi</td>\n",
       "      <td>Abuja</td>\n",
       "      <td>450000000.0</td>\n",
       "    </tr>\n",
       "    <tr>\n",
       "      <th>1</th>\n",
       "      <td>4.0</td>\n",
       "      <td>5.0</td>\n",
       "      <td>5.0</td>\n",
       "      <td>4.0</td>\n",
       "      <td>Terraced Duplexes</td>\n",
       "      <td>Katampe</td>\n",
       "      <td>Abuja</td>\n",
       "      <td>800000000.0</td>\n",
       "    </tr>\n",
       "    <tr>\n",
       "      <th>2</th>\n",
       "      <td>4.0</td>\n",
       "      <td>5.0</td>\n",
       "      <td>5.0</td>\n",
       "      <td>4.0</td>\n",
       "      <td>Detached Duplex</td>\n",
       "      <td>Lekki</td>\n",
       "      <td>Lagos</td>\n",
       "      <td>120000000.0</td>\n",
       "    </tr>\n",
       "    <tr>\n",
       "      <th>3</th>\n",
       "      <td>4.0</td>\n",
       "      <td>4.0</td>\n",
       "      <td>5.0</td>\n",
       "      <td>6.0</td>\n",
       "      <td>Detached Duplex</td>\n",
       "      <td>Ajah</td>\n",
       "      <td>Lagos</td>\n",
       "      <td>40000000.0</td>\n",
       "    </tr>\n",
       "    <tr>\n",
       "      <th>4</th>\n",
       "      <td>4.0</td>\n",
       "      <td>4.0</td>\n",
       "      <td>5.0</td>\n",
       "      <td>2.0</td>\n",
       "      <td>Semi Detached Duplex</td>\n",
       "      <td>Lekki</td>\n",
       "      <td>Lagos</td>\n",
       "      <td>75000000.0</td>\n",
       "    </tr>\n",
       "  </tbody>\n",
       "</table>\n",
       "</div>"
      ],
      "text/plain": [
       "   bedrooms  bathrooms  toilets  parking_space                 title     town  \\\n",
       "0       6.0        5.0      5.0            4.0       Detached Duplex  Mabushi   \n",
       "1       4.0        5.0      5.0            4.0     Terraced Duplexes  Katampe   \n",
       "2       4.0        5.0      5.0            4.0       Detached Duplex    Lekki   \n",
       "3       4.0        4.0      5.0            6.0       Detached Duplex     Ajah   \n",
       "4       4.0        4.0      5.0            2.0  Semi Detached Duplex    Lekki   \n",
       "\n",
       "   state        price  \n",
       "0  Abuja  450000000.0  \n",
       "1  Abuja  800000000.0  \n",
       "2  Lagos  120000000.0  \n",
       "3  Lagos   40000000.0  \n",
       "4  Lagos   75000000.0  "
      ]
     },
     "execution_count": 2,
     "metadata": {},
     "output_type": "execute_result"
    }
   ],
   "source": [
    "#read the dataset\n",
    "price = pd.read_csv('nigeria_houses_data.csv')\n",
    "\n",
    "#view few rows\n",
    "price.head()"
   ]
  },
  {
   "cell_type": "code",
   "execution_count": 3,
   "metadata": {},
   "outputs": [],
   "source": [
    "price[['bedrooms', 'bathrooms','toilets','parking_space', 'price']] = price[['bedrooms', 'bathrooms','toilets','parking_space','price']].astype(int)"
   ]
  },
  {
   "cell_type": "markdown",
   "metadata": {},
   "source": [
    "### Understanding the columns\n",
    "\n",
    "bedrooms -> number of bedrooms in the houses\n",
    "\n",
    "bathrooms -> number of bathrooms in the houses\n",
    "\n",
    "toilets -> number of toilets \n",
    "\n",
    "parking_space -> the total number of cars in the houses\n",
    "\n",
    "title -> house type\n",
    "\n",
    "town -> town in which the house is located\n",
    "\n",
    "state -> state within Nigeria in which the house is located and finally\n",
    "\n",
    "price -> the target column."
   ]
  },
  {
   "cell_type": "markdown",
   "metadata": {},
   "source": [
    "### Data Analysis\n"
   ]
  },
  {
   "cell_type": "code",
   "execution_count": 4,
   "metadata": {},
   "outputs": [
    {
     "data": {
      "text/plain": [
       "(24326, 8)"
      ]
     },
     "execution_count": 4,
     "metadata": {},
     "output_type": "execute_result"
    }
   ],
   "source": [
    "#the shape of the data\n",
    "\n",
    "price.shape"
   ]
  },
  {
   "cell_type": "markdown",
   "metadata": {},
   "source": [
    "24326 rows and 8 columns"
   ]
  },
  {
   "cell_type": "code",
   "execution_count": 5,
   "metadata": {},
   "outputs": [
    {
     "name": "stdout",
     "output_type": "stream",
     "text": [
      "<class 'pandas.core.frame.DataFrame'>\n",
      "RangeIndex: 24326 entries, 0 to 24325\n",
      "Data columns (total 8 columns):\n",
      " #   Column         Non-Null Count  Dtype \n",
      "---  ------         --------------  ----- \n",
      " 0   bedrooms       24326 non-null  int32 \n",
      " 1   bathrooms      24326 non-null  int32 \n",
      " 2   toilets        24326 non-null  int32 \n",
      " 3   parking_space  24326 non-null  int32 \n",
      " 4   title          24326 non-null  object\n",
      " 5   town           24326 non-null  object\n",
      " 6   state          24326 non-null  object\n",
      " 7   price          24326 non-null  int32 \n",
      "dtypes: int32(5), object(3)\n",
      "memory usage: 1.0+ MB\n"
     ]
    }
   ],
   "source": [
    "#info of the data\n",
    "\n",
    "price.info()"
   ]
  },
  {
   "cell_type": "markdown",
   "metadata": {},
   "source": [
    "3 object columns and 5 integer columns"
   ]
  },
  {
   "cell_type": "code",
   "execution_count": 6,
   "metadata": {},
   "outputs": [
    {
     "data": {
      "text/plain": [
       "bedrooms         0\n",
       "bathrooms        0\n",
       "toilets          0\n",
       "parking_space    0\n",
       "title            0\n",
       "town             0\n",
       "state            0\n",
       "price            0\n",
       "dtype: int64"
      ]
     },
     "execution_count": 6,
     "metadata": {},
     "output_type": "execute_result"
    }
   ],
   "source": [
    "#checking for missing values\n",
    "price.isnull().sum()"
   ]
  },
  {
   "cell_type": "code",
   "execution_count": 7,
   "metadata": {},
   "outputs": [
    {
     "data": {
      "text/plain": [
       "10451"
      ]
     },
     "execution_count": 7,
     "metadata": {},
     "output_type": "execute_result"
    }
   ],
   "source": [
    "#check for duplicates\n",
    "\n",
    "price.duplicated().sum()"
   ]
  },
  {
   "cell_type": "markdown",
   "metadata": {},
   "source": [
    "The data has 10451 duplicates "
   ]
  },
  {
   "cell_type": "code",
   "execution_count": 8,
   "metadata": {},
   "outputs": [
    {
     "data": {
      "text/html": [
       "<div>\n",
       "<style scoped>\n",
       "    .dataframe tbody tr th:only-of-type {\n",
       "        vertical-align: middle;\n",
       "    }\n",
       "\n",
       "    .dataframe tbody tr th {\n",
       "        vertical-align: top;\n",
       "    }\n",
       "\n",
       "    .dataframe thead th {\n",
       "        text-align: right;\n",
       "    }\n",
       "</style>\n",
       "<table border=\"1\" class=\"dataframe\">\n",
       "  <thead>\n",
       "    <tr style=\"text-align: right;\">\n",
       "      <th></th>\n",
       "      <th>bedrooms</th>\n",
       "      <th>bathrooms</th>\n",
       "      <th>toilets</th>\n",
       "      <th>parking_space</th>\n",
       "      <th>price</th>\n",
       "    </tr>\n",
       "  </thead>\n",
       "  <tbody>\n",
       "    <tr>\n",
       "      <th>count</th>\n",
       "      <td>24326.000000</td>\n",
       "      <td>24326.000000</td>\n",
       "      <td>24326.000000</td>\n",
       "      <td>24326.000000</td>\n",
       "      <td>2.432600e+04</td>\n",
       "    </tr>\n",
       "    <tr>\n",
       "      <th>mean</th>\n",
       "      <td>4.338814</td>\n",
       "      <td>4.600798</td>\n",
       "      <td>5.176355</td>\n",
       "      <td>4.041725</td>\n",
       "      <td>1.525279e+08</td>\n",
       "    </tr>\n",
       "    <tr>\n",
       "      <th>std</th>\n",
       "      <td>1.138497</td>\n",
       "      <td>1.163161</td>\n",
       "      <td>1.226253</td>\n",
       "      <td>1.399936</td>\n",
       "      <td>2.673468e+08</td>\n",
       "    </tr>\n",
       "    <tr>\n",
       "      <th>min</th>\n",
       "      <td>1.000000</td>\n",
       "      <td>1.000000</td>\n",
       "      <td>1.000000</td>\n",
       "      <td>1.000000</td>\n",
       "      <td>-2.147484e+09</td>\n",
       "    </tr>\n",
       "    <tr>\n",
       "      <th>25%</th>\n",
       "      <td>4.000000</td>\n",
       "      <td>4.000000</td>\n",
       "      <td>5.000000</td>\n",
       "      <td>4.000000</td>\n",
       "      <td>5.000000e+07</td>\n",
       "    </tr>\n",
       "    <tr>\n",
       "      <th>50%</th>\n",
       "      <td>4.000000</td>\n",
       "      <td>5.000000</td>\n",
       "      <td>5.000000</td>\n",
       "      <td>4.000000</td>\n",
       "      <td>8.500000e+07</td>\n",
       "    </tr>\n",
       "    <tr>\n",
       "      <th>75%</th>\n",
       "      <td>5.000000</td>\n",
       "      <td>5.000000</td>\n",
       "      <td>6.000000</td>\n",
       "      <td>4.000000</td>\n",
       "      <td>1.600000e+08</td>\n",
       "    </tr>\n",
       "    <tr>\n",
       "      <th>max</th>\n",
       "      <td>9.000000</td>\n",
       "      <td>9.000000</td>\n",
       "      <td>9.000000</td>\n",
       "      <td>9.000000</td>\n",
       "      <td>2.100000e+09</td>\n",
       "    </tr>\n",
       "  </tbody>\n",
       "</table>\n",
       "</div>"
      ],
      "text/plain": [
       "           bedrooms     bathrooms       toilets  parking_space         price\n",
       "count  24326.000000  24326.000000  24326.000000   24326.000000  2.432600e+04\n",
       "mean       4.338814      4.600798      5.176355       4.041725  1.525279e+08\n",
       "std        1.138497      1.163161      1.226253       1.399936  2.673468e+08\n",
       "min        1.000000      1.000000      1.000000       1.000000 -2.147484e+09\n",
       "25%        4.000000      4.000000      5.000000       4.000000  5.000000e+07\n",
       "50%        4.000000      5.000000      5.000000       4.000000  8.500000e+07\n",
       "75%        5.000000      5.000000      6.000000       4.000000  1.600000e+08\n",
       "max        9.000000      9.000000      9.000000       9.000000  2.100000e+09"
      ]
     },
     "execution_count": 8,
     "metadata": {},
     "output_type": "execute_result"
    }
   ],
   "source": [
    "#statistics of the data\n",
    "\n",
    "price.describe()"
   ]
  },
  {
   "cell_type": "markdown",
   "metadata": {},
   "source": [
    "From the dataset, it is impossible to have a negative in thr price colun, let's check out for outliers"
   ]
  },
  {
   "cell_type": "code",
   "execution_count": 9,
   "metadata": {},
   "outputs": [
    {
     "data": {
      "text/plain": [
       "<AxesSubplot:>"
      ]
     },
     "execution_count": 9,
     "metadata": {},
     "output_type": "execute_result"
    },
    {
     "data": {
      "image/png": "[encoded data removed]",
      "text/plain": [
       "<Figure size 432x288 with 1 Axes>"
      ]
     },
     "metadata": {
      "needs_background": "light"
     },
     "output_type": "display_data"
    }
   ],
   "source": [
    "#check outliers\n",
    "sns.boxplot(data = price)"
   ]
  },
  {
   "cell_type": "markdown",
   "metadata": {},
   "source": [
    "This shows we have a lot of outliers in price column, let's clean that"
   ]
  },
  {
   "cell_type": "code",
   "execution_count": 10,
   "metadata": {},
   "outputs": [],
   "source": [
    "# drop columns less than 0\n",
    "price = price.drop(price[price['price'] <= 0].index)\n"
   ]
  },
  {
   "cell_type": "code",
   "execution_count": 11,
   "metadata": {},
   "outputs": [],
   "source": [
    "# drop price greater than 200 million\n",
    "price = price.drop(price[price['price'] > 200000000].index)"
   ]
  },
  {
   "cell_type": "code",
   "execution_count": 12,
   "metadata": {},
   "outputs": [
    {
     "data": {
      "text/plain": [
       "<AxesSubplot:>"
      ]
     },
     "execution_count": 12,
     "metadata": {},
     "output_type": "execute_result"
    },
    {
     "data": {
      "image/png": "[encoded data removed]",
      "text/plain": [
       "<Figure size 864x504 with 1 Axes>"
      ]
     },
     "metadata": {
      "needs_background": "light"
     },
     "output_type": "display_data"
    }
   ],
   "source": [
    "# checking the boxplot again\n",
    "plt.figure(figsize=(12,7))\n",
    "sns.boxplot(data = price)"
   ]
  },
  {
   "cell_type": "code",
   "execution_count": 13,
   "metadata": {},
   "outputs": [],
   "source": [
    "# find out if we have rows that are not divisible by 10 and drop them\n",
    "price = price.drop(price[~price['price'] % 10 == 0].index)"
   ]
  },
  {
   "cell_type": "markdown",
   "metadata": {},
   "source": [
    "The dataset has no outliers anymore, let's the the number of rows the dataset has"
   ]
  },
  {
   "cell_type": "code",
   "execution_count": 14,
   "metadata": {},
   "outputs": [
    {
     "data": {
      "text/plain": [
       "(19707, 8)"
      ]
     },
     "execution_count": 14,
     "metadata": {},
     "output_type": "execute_result"
    }
   ],
   "source": [
    "price.shape"
   ]
  },
  {
   "cell_type": "markdown",
   "metadata": {},
   "source": [
    "The dataset has 19,707 rows"
   ]
  },
  {
   "cell_type": "markdown",
   "metadata": {},
   "source": [
    "### Data Cleaning"
   ]
  },
  {
   "cell_type": "markdown",
   "metadata": {},
   "source": [
    "In the previous analysis, we have 10451 duplicates, let's drop them"
   ]
  },
  {
   "cell_type": "code",
   "execution_count": 15,
   "metadata": {},
   "outputs": [],
   "source": [
    "#dropping duplicates\n",
    "\n",
    "price.drop_duplicates(keep='first', inplace= True)"
   ]
  },
  {
   "cell_type": "code",
   "execution_count": 16,
   "metadata": {},
   "outputs": [
    {
     "data": {
      "text/plain": [
       "(11265, 8)"
      ]
     },
     "execution_count": 16,
     "metadata": {},
     "output_type": "execute_result"
    }
   ],
   "source": [
    "#check the shape again\n",
    "price.shape"
   ]
  },
  {
   "cell_type": "markdown",
   "metadata": {},
   "source": [
    "After dropping the duplicates the data has 11,265 rows"
   ]
  },
  {
   "cell_type": "markdown",
   "metadata": {},
   "source": [
    "### Data Visualization"
   ]
  },
  {
   "cell_type": "code",
   "execution_count": 18,
   "metadata": {},
   "outputs": [],
   "source": [
    "price_title = price['title'].value_counts(ascending=False)"
   ]
  },
  {
   "cell_type": "code",
   "execution_count": 19,
   "metadata": {},
   "outputs": [
    {
     "data": {
      "image/png": "[encoded data removed]",
      "text/plain": [
       "<Figure size 864x360 with 1 Axes>"
      ]
     },
     "metadata": {
      "needs_background": "light"
     },
     "output_type": "display_data"
    }
   ],
   "source": [
    "plt.figure(figsize=(12,5))\n",
    "\n",
    "ax = sns.barplot(x = price_title.values, y = price_title.index)\n",
    "for i in ax.containers:\n",
    "    ax.bar_label(i,)\n",
    "plt.title('Different House Type')\n",
    "plt.ylabel('Houses')\n",
    "plt.xlabel('Counts')\n",
    "plt.show()\n",
    "\n"
   ]
  },
  {
   "cell_type": "code",
   "execution_count": 20,
   "metadata": {},
   "outputs": [],
   "source": [
    "price_state = price['state'].value_counts(ascending=False)"
   ]
  },
  {
   "cell_type": "code",
   "execution_count": 21,
   "metadata": {},
   "outputs": [
    {
     "data": {
      "image/png": "[encoded data removed]",
      "text/plain": [
       "<Figure size 864x648 with 1 Axes>"
      ]
     },
     "metadata": {
      "needs_background": "light"
     },
     "output_type": "display_data"
    }
   ],
   "source": [
    "\n",
    "plt.figure(figsize=(12,9))\n",
    "ax = sns.barplot(x = price_state.values, y = price_state.index)\n",
    "for i in ax.containers:\n",
    "    ax.bar_label(i,)"
   ]
  },
  {
   "cell_type": "markdown",
   "metadata": {},
   "source": [
    "Let's check out Lagos, how many cities do we have"
   ]
  },
  {
   "cell_type": "code",
   "execution_count": 22,
   "metadata": {},
   "outputs": [],
   "source": [
    "price_state_town = price[price['state'] == 'Lagos']"
   ]
  },
  {
   "cell_type": "code",
   "execution_count": 23,
   "metadata": {},
   "outputs": [],
   "source": [
    "price_town = price_state_town['town'].value_counts(ascending=False)"
   ]
  },
  {
   "cell_type": "markdown",
   "metadata": {},
   "source": [
    "Let's plot that"
   ]
  },
  {
   "cell_type": "code",
   "execution_count": 24,
   "metadata": {},
   "outputs": [
    {
     "name": "stderr",
     "output_type": "stream",
     "text": [
      "c:\\Users\\DELL\\anaconda3\\lib\\site-packages\\seaborn\\_decorators.py:36: FutureWarning: Pass the following variables as keyword args: x, y. From version 0.12, the only valid positional argument will be `data`, and passing other arguments without an explicit keyword will result in an error or misinterpretation.\n",
      "  warnings.warn(\n"
     ]
    },
    {
     "data": {
      "image/png": "[encoded data removed]",
      "text/plain": [
       "<Figure size 1080x1080 with 1 Axes>"
      ]
     },
     "metadata": {
      "needs_background": "light"
     },
     "output_type": "display_data"
    }
   ],
   "source": [
    "plt.figure(figsize=(15,15))\n",
    "\n",
    "ax = sns.barplot(price_town.values, price_town.index)\n",
    "for i in ax.containers:\n",
    "    ax.bar_label(i,)"
   ]
  },
  {
   "cell_type": "markdown",
   "metadata": {},
   "source": [
    "### Model Training"
   ]
  },
  {
   "cell_type": "code",
   "execution_count": 25,
   "metadata": {},
   "outputs": [],
   "source": [
    "#importing libraries\n",
    "from sklearn.preprocessing import LabelEncoder\n",
    "from sklearn.linear_model import LinearRegression, LogisticRegression\n",
    "from sklearn.tree import DecisionTreeRegressor\n",
    "from sklearn.neighbors import KNeighborsRegressor\n",
    "from sklearn.ensemble import RandomForestRegressor, GradientBoostingRegressor\n",
    "from sklearn.model_selection import train_test_split, GridSearchCV, RandomizedSearchCV\n",
    "from sklearn.metrics import roc_auc_score, r2_score, mean_absolute_error, mean_squared_error"
   ]
  },
  {
   "cell_type": "code",
   "execution_count": 26,
   "metadata": {},
   "outputs": [
    {
     "name": "stderr",
     "output_type": "stream",
     "text": [
      "c:\\Users\\DELL\\anaconda3\\lib\\site-packages\\sklearn\\preprocessing\\_label.py:115: DataConversionWarning: A column-vector y was passed when a 1d array was expected. Please change the shape of y to (n_samples, ), for example using ravel().\n",
      "  y = column_or_1d(y, warn=True)\n"
     ]
    }
   ],
   "source": [
    "encoder  = LabelEncoder()\n",
    "price['title']= encoder.fit_transform(price[['title']])"
   ]
  },
  {
   "cell_type": "markdown",
   "metadata": {},
   "source": [
    "\n",
    "Block of Flats, 0\n",
    "\n",
    "Detached Bungalow, 1\n",
    "\n",
    "Detached Duplex, 2\n",
    "\n",
    "Semi Detached Bungalow, 3\n",
    "\n",
    "Semi Detached Duplex, 4\n",
    "\n",
    "Terraced Bungalow, 5\n",
    "\n",
    "Terraced Duplexes, 6"
   ]
  },
  {
   "cell_type": "code",
   "execution_count": 27,
   "metadata": {},
   "outputs": [
    {
     "name": "stderr",
     "output_type": "stream",
     "text": [
      "c:\\Users\\DELL\\anaconda3\\lib\\site-packages\\sklearn\\preprocessing\\_label.py:115: DataConversionWarning: A column-vector y was passed when a 1d array was expected. Please change the shape of y to (n_samples, ), for example using ravel().\n",
      "  y = column_or_1d(y, warn=True)\n"
     ]
    }
   ],
   "source": [
    "\n",
    "price['town'] = encoder.fit_transform(price[['town']])\n"
   ]
  },
  {
   "cell_type": "markdown",
   "metadata": {},
   "source": [
    "Aba\t0\n",
    "\n",
    "Abeokuta North\t1\n",
    "\n",
    "Abeokuta South\t2\n",
    "\n",
    "Abraka\t3 \n",
    "\n",
    "Ado-Ekiti\t4\n",
    "\n",
    "Ado-Odo/Ota\t5\n",
    "\n",
    "Afijio\t6\n",
    "\n",
    "Agbara\t7\n",
    "\n",
    "Agbara-Igbesa\t8\n",
    "\n",
    "Agege\t9\n",
    "\n",
    "Ajah\t10\n",
    "\n",
    "Akinyele\t11\n",
    "\n",
    "Akure\t12\n",
    "\n",
    "Alimosho\t13\n",
    "\n",
    "Amuwo Odofin\t14\n",
    "\n",
    "Aniocha South\t15\n",
    "\n",
    "\n",
    "Apapa\t16\n",
    "\n",
    "Apo\t17\n",
    "\n",
    "Arepo\t18\n",
    "\n",
    "Asaba\t19\n",
    "\n",
    "\n",
    "Asokoro District\t20\n",
    "\n",
    "Ayobo\t21\n",
    "\n",
    "Badagry\t22\n",
    "\n",
    "Bwari\t23\n",
    "\n",
    "Calabar\t24\n",
    "\n",
    "Central Business District\t25\n",
    "\n",
    "Chikun\t26\n",
    "\n",
    "Dakibiyu\t27\n",
    "\n",
    "Dakwo\t28\n",
    "\n",
    "Danja\t29\n",
    "\n",
    "Dape\t30\n",
    "\n",
    "Dei-Dei\t31\n",
    "\n",
    "Dekina\t32\n",
    "\n",
    "Diplomatic Zones\t33\n",
    "\n",
    "Duboyi\t34\n",
    "\n",
    "Durumi\t35\n",
    "\n",
    "Dutse\t36\n",
    "\n",
    "Ede South\t37\n",
    "\n",
    "Egbe\t38\n",
    "\n",
    "Egbeda\t39\n",
    "\n",
    "Egor\t40\n",
    "\n",
    "Ejigbo\t41\n",
    "\n",
    "Eket\t42\n",
    "\n",
    "Eko Atlantic City\t43\n",
    "\n",
    "Eleme\t44\n",
    "\n",
    "Enugu\t45\n",
    "\n",
    "\n",
    "Epe\t46\n",
    "\n",
    "\n",
    "Ethiope West\t47\n",
    "\n",
    "\n",
    "Ewekoro\t48\n",
    "\n",
    "\n",
    "Gaduwa\t49\n",
    "\n",
    "Galadimawa\t50\n",
    "\n",
    "Garki\t51\n",
    "\n",
    "Gbagada\t52\n",
    "\n",
    "Gudu\t53\n",
    "\n",
    "Guzamala\t54\n",
    "\n",
    "Guzape District\t55\n",
    "\n",
    "Gwagwalada\t56\n",
    "\n",
    "Gwarinpa\t57\n",
    "\n",
    "Ibadan\t58\n",
    "\n",
    "Ibadan North\t59\n",
    "\n",
    "Ibadan North-East\t60\n",
    "\n",
    "Ibadan North-West\t61\n",
    "\n",
    "Ibadan South-West\t62\n",
    "\n",
    "Ibafo\t63\n",
    "\n",
    "Ibarapa North\t64\n",
    "\n",
    "Ibeju\t65\n",
    "\n",
    "Ibeju Lekki\t66\n",
    "\n",
    "Idimu\t67\n",
    "\n",
    "Ido\t68\n",
    "\n",
    "Idu Industrial\t69\n",
    "\n",
    "Ifako-Ijaiye\t70\n",
    "\n",
    "Ifo\t71\n",
    "\n",
    "Ijaiye\t72\n",
    "\n",
    "Ijebu Ode\t73\n",
    "\n",
    "Ijede\t74\n",
    "\n",
    "Ijesha\t75\n",
    "\n",
    "Ijoko\t76\n",
    "\n",
    "Ikeja\t77\n",
    "\n",
    "Ikorodu\t78\n",
    "\n",
    "Ikot Ekpene\t79\n",
    "\n",
    "Ikotun\t80\n",
    "\n",
    "Ikoyi\t81\n",
    "\n",
    "Ikpoba Okha\t82\n",
    "\n",
    "Ikwerre\t83\n",
    "\n",
    "Ilorin East\t84\n",
    "\n",
    "Ilorin South\t85\n",
    "\n",
    "\n",
    "Ilorin West\t86\n",
    "\n",
    "Ilupeju\t87\n",
    "\n",
    "Imota\t88\n",
    "\n",
    "Ipaja\t89\n",
    "\n",
    "Isheri\t90\n",
    "\n",
    "Isheri North\t91\n",
    "\n",
    "Isolo\t92\n",
    "\n",
    "Jabi\t93\n",
    "\n",
    "Jahi\t94\n",
    "\n",
    "Jikwoyi\t95\n",
    "\n",
    "Jos North\t96\n",
    "\n",
    "Jos South\t97\n",
    "\n",
    "Kabusa\t99\n",
    "\n",
    "Kado\t100\n",
    "\n",
    "Kaduna North\t101\n",
    "\n",
    "Kaduna South\t102\n",
    "\n",
    "Kafe\t103\n",
    "\n",
    "Kagini\t104\n",
    "\n",
    "Kano\t105\n",
    "\n",
    "Karmo\t106\n",
    "\n",
    "Karsana\t107\n",
    "\n",
    "Karshi\t108\n",
    "\n",
    "Karu\t109\n",
    "\n",
    "Katampe\t110\n",
    "\n",
    "Kaura\t111\n",
    "\n",
    "Keffi\t112\n",
    "\n",
    "Ketu\t113\n",
    "\n",
    "KM 46\t98\n",
    "\n",
    "Kosofe\t114\n",
    "\n",
    "Kubwa\t115\n",
    "\n",
    "Kuje\t116\n",
    "\n",
    "Kukwaba\t117\n",
    "\n",
    "Kurudu\t118\n",
    "\n",
    "Kusada\t119\n",
    "\n",
    "Kyami\t120\n",
    "\n",
    "Lagos Island\t121\n",
    "\n",
    "Lekki\t122\n",
    "\n",
    "Life Camp\t123\n",
    "\n",
    "Lokogoma District\t124\n",
    "\n",
    "Lokoja\t125\n",
    "\n",
    "Lugbe District\t126\n",
    "\n",
    "Mabushi\t127\n",
    "\n",
    "Magboro\t128\n",
    "\n",
    "Magodo\t129\n",
    "\n",
    "Maitama District\t130\n",
    "\n",
    "Mararaba\t131\n",
    "\n",
    "Maryland\t132\n",
    "\n",
    "Mbora (Nbora)\t133\n",
    "\n",
    "Mowe Ofada\t134\n",
    "\n",
    "Mowe Town\t135\n",
    "\n",
    "Mpape\t136\n",
    "\n",
    "Mushin\t137\n",
    "\n",
    "Nasarawa\t138\n",
    "\n",
    "Nassarawa\t139\n",
    "\n",
    "Nyanya\t140\n",
    "\n",
    "Obafemi Owode\t141\n",
    "\n",
    "Obio-Akpor\t142\n",
    "\n",
    "Ogijo\t143\n",
    "\n",
    "Ogudu\t144\n",
    "\n",
    "Ohaji/Egbema\t145\n",
    "\n",
    "Ojo\t146\n",
    "\n",
    "Ojodu\t147\n",
    "\n",
    "Ojota\t148\n",
    "\n",
    "Oke-Aro\t149\n",
    "\n",
    "Okene\t151\n",
    "\n",
    "Oke-Odo\t150\n",
    "\n",
    "Okpe\t152\n",
    "\n",
    "Oluyole\t153\n",
    "\n",
    "Oredo\t154\n",
    "\n",
    "Orile\t155\n",
    "\n",
    "Orozo\t156\n",
    "\n",
    "Oshodi\t157\n",
    "\n",
    "Osogbo\t158\n",
    "\n",
    "Ovia North-East\t159\n",
    "\n",
    "Owerri Municipal\t160\n",
    "\n",
    "Owerri North\t161\n",
    "\n",
    "Owerri West\t162\n",
    "\n",
    "Oyigbo\t163\n",
    "\n",
    "Oyo West\t164\n",
    "\n",
    "Paikoro\t165\n",
    "\n",
    "Port Harcourt\t166\n",
    "\n",
    "Sagamu\t167\n",
    "\n",
    "Sango Ota\t168\n",
    "\n",
    "Shomolu\t169\n",
    "\n",
    "Simawa\t170\n",
    "\n",
    "Surulere\t171\n",
    "\n",
    "Udu\t172\n",
    "\n",
    "Ughelli North\t173\n",
    "\n",
    "Ughelli South\t174\n",
    "\n",
    "Uhunmwonde\t175\n",
    "\n",
    "Umuahia\t176\n",
    "\n",
    "Utako\t177\n",
    "\n",
    "Uvwie\t178\n",
    "\n",
    "Uyo\t179\n",
    "\n",
    "Victoria Island (VI)\t180\n",
    "\n",
    "Warri\t181\n",
    "\n",
    "Wumba\t182\n",
    "\n",
    "Wuse\t183\n",
    "\n",
    "Wuse 2\t184\n",
    "\n",
    "Wuye\t185\n",
    "\n",
    "Yaba\t186\n",
    "\n",
    "Yenagoa\t187\n",
    "\n",
    "Yewa South\t188\n"
   ]
  },
  {
   "cell_type": "code",
   "execution_count": 28,
   "metadata": {},
   "outputs": [
    {
     "name": "stderr",
     "output_type": "stream",
     "text": [
      "c:\\Users\\DELL\\anaconda3\\lib\\site-packages\\sklearn\\preprocessing\\_label.py:115: DataConversionWarning: A column-vector y was passed when a 1d array was expected. Please change the shape of y to (n_samples, ), for example using ravel().\n",
      "  y = column_or_1d(y, warn=True)\n"
     ]
    }
   ],
   "source": [
    "price['state'] = encoder.fit_transform(price[['state']])\n"
   ]
  },
  {
   "cell_type": "markdown",
   "metadata": {},
   "source": [
    "Abuja\t1\n",
    "\n",
    "Lagos\t17\n",
    "Edo\t8\n",
    "\n",
    "Ogun\t20\n",
    "\n",
    "Oyo\t22\n",
    "\n",
    "Imo\t11\n",
    "\n",
    "Anambara\t3\n",
    "\n",
    "Rivers\t24\n",
    "\n",
    "Enugu\t10\n",
    "\n",
    "Kaduna\t12\n",
    "\n",
    "Kwara\t16\n",
    "\n",
    "Nasarawa\t18\n",
    "Abia\t0\n",
    "\n",
    "Delta\t7\n",
    "\n",
    "Akwa Ibom\t2\n",
    "\n",
    "Osun\t21\n",
    "\n",
    "Ekiti\t9\n",
    "\n",
    "Cross River\t6\n",
    "\n",
    "Kogi\t15\n",
    "\n",
    "Plateau\t23\n",
    "\n",
    "Kano\t13\n",
    "Katsina\t14\n",
    "\n",
    "Bayelsa\t4\n",
    "\n",
    "Borno\t5\n",
    "\n",
    "Niger\t19"
   ]
  },
  {
   "cell_type": "code",
   "execution_count": 29,
   "metadata": {},
   "outputs": [
    {
     "data": {
      "text/html": [
       "<div>\n",
       "<style scoped>\n",
       "    .dataframe tbody tr th:only-of-type {\n",
       "        vertical-align: middle;\n",
       "    }\n",
       "\n",
       "    .dataframe tbody tr th {\n",
       "        vertical-align: top;\n",
       "    }\n",
       "\n",
       "    .dataframe thead th {\n",
       "        text-align: right;\n",
       "    }\n",
       "</style>\n",
       "<table border=\"1\" class=\"dataframe\">\n",
       "  <thead>\n",
       "    <tr style=\"text-align: right;\">\n",
       "      <th></th>\n",
       "      <th>bedrooms</th>\n",
       "      <th>bathrooms</th>\n",
       "      <th>toilets</th>\n",
       "      <th>parking_space</th>\n",
       "      <th>title</th>\n",
       "      <th>town</th>\n",
       "      <th>state</th>\n",
       "      <th>price</th>\n",
       "    </tr>\n",
       "  </thead>\n",
       "  <tbody>\n",
       "    <tr>\n",
       "      <th>2</th>\n",
       "      <td>4</td>\n",
       "      <td>5</td>\n",
       "      <td>5</td>\n",
       "      <td>4</td>\n",
       "      <td>2</td>\n",
       "      <td>122</td>\n",
       "      <td>17</td>\n",
       "      <td>120000000</td>\n",
       "    </tr>\n",
       "    <tr>\n",
       "      <th>3</th>\n",
       "      <td>4</td>\n",
       "      <td>4</td>\n",
       "      <td>5</td>\n",
       "      <td>6</td>\n",
       "      <td>2</td>\n",
       "      <td>10</td>\n",
       "      <td>17</td>\n",
       "      <td>40000000</td>\n",
       "    </tr>\n",
       "    <tr>\n",
       "      <th>4</th>\n",
       "      <td>4</td>\n",
       "      <td>4</td>\n",
       "      <td>5</td>\n",
       "      <td>2</td>\n",
       "      <td>4</td>\n",
       "      <td>122</td>\n",
       "      <td>17</td>\n",
       "      <td>75000000</td>\n",
       "    </tr>\n",
       "    <tr>\n",
       "      <th>6</th>\n",
       "      <td>4</td>\n",
       "      <td>5</td>\n",
       "      <td>5</td>\n",
       "      <td>4</td>\n",
       "      <td>2</td>\n",
       "      <td>122</td>\n",
       "      <td>17</td>\n",
       "      <td>65000000</td>\n",
       "    </tr>\n",
       "    <tr>\n",
       "      <th>7</th>\n",
       "      <td>2</td>\n",
       "      <td>2</td>\n",
       "      <td>3</td>\n",
       "      <td>6</td>\n",
       "      <td>1</td>\n",
       "      <td>46</td>\n",
       "      <td>17</td>\n",
       "      <td>12000000</td>\n",
       "    </tr>\n",
       "  </tbody>\n",
       "</table>\n",
       "</div>"
      ],
      "text/plain": [
       "   bedrooms  bathrooms  toilets  parking_space  title  town  state      price\n",
       "2         4          5        5              4      2   122     17  120000000\n",
       "3         4          4        5              6      2    10     17   40000000\n",
       "4         4          4        5              2      4   122     17   75000000\n",
       "6         4          5        5              4      2   122     17   65000000\n",
       "7         2          2        3              6      1    46     17   12000000"
      ]
     },
     "execution_count": 29,
     "metadata": {},
     "output_type": "execute_result"
    }
   ],
   "source": [
    "price.head()"
   ]
  },
  {
   "cell_type": "code",
   "execution_count": 30,
   "metadata": {},
   "outputs": [],
   "source": [
    "X = price.drop('price', axis = 1)\n",
    "y = price['price']"
   ]
  },
  {
   "cell_type": "code",
   "execution_count": 31,
   "metadata": {},
   "outputs": [],
   "source": [
    "X_train, X_test, y_train, y_test = train_test_split(X,y,test_size=0.2)"
   ]
  },
  {
   "cell_type": "markdown",
   "metadata": {},
   "source": [
    "### Model Evaluation"
   ]
  },
  {
   "cell_type": "code",
   "execution_count": 32,
   "metadata": {},
   "outputs": [],
   "source": [
    "linear_model = LinearRegression()\n",
    "lr = LogisticRegression(max_iter=1000)\n",
    "dt = DecisionTreeRegressor()\n",
    "knn = KNeighborsRegressor(n_neighbors=9)\n",
    "rfr = RandomForestRegressor()\n",
    "gbt = GradientBoostingRegressor()"
   ]
  },
  {
   "cell_type": "markdown",
   "metadata": {},
   "source": [
    "#### Linear Regression"
   ]
  },
  {
   "cell_type": "code",
   "execution_count": 33,
   "metadata": {},
   "outputs": [
    {
     "data": {
      "text/plain": [
       "0.23374988055831525"
      ]
     },
     "execution_count": 33,
     "metadata": {},
     "output_type": "execute_result"
    }
   ],
   "source": [
    "\n",
    "linear_model.fit(X_train, y_train)\n",
    "\n",
    "linear_pred = linear_model.predict(X_test)\n",
    "\n",
    "r2_score(y_test, linear_pred)\n"
   ]
  },
  {
   "cell_type": "markdown",
   "metadata": {},
   "source": [
    "#### DecisionTreeRegressor"
   ]
  },
  {
   "cell_type": "code",
   "execution_count": 34,
   "metadata": {},
   "outputs": [
    {
     "data": {
      "text/plain": [
       "0.3041508507541575"
      ]
     },
     "execution_count": 34,
     "metadata": {},
     "output_type": "execute_result"
    }
   ],
   "source": [
    "dt.fit(X_train, y_train)\n",
    "\n",
    "dt_pred = dt.predict(X_test)\n",
    "\n",
    "r2_score(y_test, dt_pred)"
   ]
  },
  {
   "cell_type": "markdown",
   "metadata": {},
   "source": [
    "#### LogisticRegression"
   ]
  },
  {
   "cell_type": "code",
   "execution_count": 35,
   "metadata": {},
   "outputs": [
    {
     "name": "stderr",
     "output_type": "stream",
     "text": [
      "c:\\Users\\DELL\\anaconda3\\lib\\site-packages\\sklearn\\linear_model\\_logistic.py:814: ConvergenceWarning: lbfgs failed to converge (status=1):\n",
      "STOP: TOTAL NO. of ITERATIONS REACHED LIMIT.\n",
      "\n",
      "Increase the number of iterations (max_iter) or scale the data as shown in:\n",
      "    https://scikit-learn.org/stable/modules/preprocessing.html\n",
      "Please also refer to the documentation for alternative solver options:\n",
      "    https://scikit-learn.org/stable/modules/linear_model.html#logistic-regression\n",
      "  n_iter_i = _check_optimize_result(\n"
     ]
    },
    {
     "data": {
      "text/plain": [
       "0.9999999873922036"
      ]
     },
     "execution_count": 35,
     "metadata": {},
     "output_type": "execute_result"
    }
   ],
   "source": [
    "lr.fit(X_train, y_train)\n",
    "\n",
    "lr_pred = lr.predict(X_test)\n",
    "\n",
    "r2_score(y_test, lr_pred)"
   ]
  },
  {
   "cell_type": "markdown",
   "metadata": {},
   "source": [
    "#### RandomForestRegressor"
   ]
  },
  {
   "cell_type": "code",
   "execution_count": 36,
   "metadata": {},
   "outputs": [
    {
     "data": {
      "text/plain": [
       "0.4578894703138947"
      ]
     },
     "execution_count": 36,
     "metadata": {},
     "output_type": "execute_result"
    }
   ],
   "source": [
    "rfr.fit(X_train, y_train)\n",
    "\n",
    "rf_pred = rfr.predict(X_test)\n",
    "\n",
    "r2_score(y_test, rf_pred)"
   ]
  },
  {
   "cell_type": "markdown",
   "metadata": {},
   "source": [
    "#### GradientBoostRegressor"
   ]
  },
  {
   "cell_type": "code",
   "execution_count": 37,
   "metadata": {},
   "outputs": [
    {
     "data": {
      "text/plain": [
       "0.48058859361603357"
      ]
     },
     "execution_count": 37,
     "metadata": {},
     "output_type": "execute_result"
    }
   ],
   "source": [
    "gbt.fit(X_train, y_train)\n",
    "\n",
    "gb_pred = gbt.predict(X_test)\n",
    "\n",
    "r2_score(y_test, gb_pred)\n"
   ]
  },
  {
   "cell_type": "markdown",
   "metadata": {},
   "source": [
    "#### KNeighborRegressor"
   ]
  },
  {
   "cell_type": "code",
   "execution_count": 38,
   "metadata": {},
   "outputs": [
    {
     "data": {
      "text/plain": [
       "0.4603101617828741"
      ]
     },
     "execution_count": 38,
     "metadata": {},
     "output_type": "execute_result"
    }
   ],
   "source": [
    "knn.fit(X_train, y_train)\n",
    "\n",
    "knn_pred = knn.predict(X_test)\n",
    "\n",
    "r2_score(y_test, knn_pred)"
   ]
  },
  {
   "cell_type": "code",
   "execution_count": 42,
   "metadata": {},
   "outputs": [
    {
     "data": {
      "text/html": [
       "<div>\n",
       "<style scoped>\n",
       "    .dataframe tbody tr th:only-of-type {\n",
       "        vertical-align: middle;\n",
       "    }\n",
       "\n",
       "    .dataframe tbody tr th {\n",
       "        vertical-align: top;\n",
       "    }\n",
       "\n",
       "    .dataframe thead th {\n",
       "        text-align: right;\n",
       "    }\n",
       "</style>\n",
       "<table border=\"1\" class=\"dataframe\">\n",
       "  <thead>\n",
       "    <tr style=\"text-align: right;\">\n",
       "      <th></th>\n",
       "      <th>Actual</th>\n",
       "      <th>Predicted</th>\n",
       "    </tr>\n",
       "  </thead>\n",
       "  <tbody>\n",
       "    <tr>\n",
       "      <th>20184</th>\n",
       "      <td>155000000</td>\n",
       "      <td>150000000</td>\n",
       "    </tr>\n",
       "    <tr>\n",
       "      <th>946</th>\n",
       "      <td>30000000</td>\n",
       "      <td>35000000</td>\n",
       "    </tr>\n",
       "    <tr>\n",
       "      <th>3193</th>\n",
       "      <td>23900000</td>\n",
       "      <td>35000000</td>\n",
       "    </tr>\n",
       "    <tr>\n",
       "      <th>24173</th>\n",
       "      <td>35000000</td>\n",
       "      <td>25000000</td>\n",
       "    </tr>\n",
       "    <tr>\n",
       "      <th>18484</th>\n",
       "      <td>80000000</td>\n",
       "      <td>35000000</td>\n",
       "    </tr>\n",
       "    <tr>\n",
       "      <th>...</th>\n",
       "      <td>...</td>\n",
       "      <td>...</td>\n",
       "    </tr>\n",
       "    <tr>\n",
       "      <th>21853</th>\n",
       "      <td>130000000</td>\n",
       "      <td>150000000</td>\n",
       "    </tr>\n",
       "    <tr>\n",
       "      <th>7862</th>\n",
       "      <td>35000000</td>\n",
       "      <td>35000000</td>\n",
       "    </tr>\n",
       "    <tr>\n",
       "      <th>569</th>\n",
       "      <td>45000000</td>\n",
       "      <td>35000000</td>\n",
       "    </tr>\n",
       "    <tr>\n",
       "      <th>20143</th>\n",
       "      <td>20000000</td>\n",
       "      <td>140000000</td>\n",
       "    </tr>\n",
       "    <tr>\n",
       "      <th>1668</th>\n",
       "      <td>30000000</td>\n",
       "      <td>35000000</td>\n",
       "    </tr>\n",
       "  </tbody>\n",
       "</table>\n",
       "<p>2253 rows × 2 columns</p>\n",
       "</div>"
      ],
      "text/plain": [
       "          Actual  Predicted\n",
       "20184  155000000  150000000\n",
       "946     30000000   35000000\n",
       "3193    23900000   35000000\n",
       "24173   35000000   25000000\n",
       "18484   80000000   35000000\n",
       "...          ...        ...\n",
       "21853  130000000  150000000\n",
       "7862    35000000   35000000\n",
       "569     45000000   35000000\n",
       "20143   20000000  140000000\n",
       "1668    30000000   35000000\n",
       "\n",
       "[2253 rows x 2 columns]"
      ]
     },
     "execution_count": 42,
     "metadata": {},
     "output_type": "execute_result"
    }
   ],
   "source": [
    "pd.DataFrame({\n",
    "            'Actual': y_test,\n",
    "            'Predicted': lr_pred\n",
    "})"
   ]
  },
  {
   "cell_type": "code",
   "execution_count": 86,
   "metadata": {},
   "outputs": [],
   "source": [
    "import pickle\n",
    "pickle.dump(lr,open('house_price.pkl','wb'))"
   ]
  },
  {
   "cell_type": "code",
   "execution_count": null,
   "metadata": {},
   "outputs": [],
   "source": []
  }
 ],
 "metadata": {
  "kernelspec": {
   "display_name": "base",
   "language": "python",
   "name": "python3"
  },
  "language_info": {
   "codemirror_mode": {
    "name": "ipython",
    "version": 3
   },
   "file_extension": ".py",
   "mimetype": "text/x-python",
   "name": "python",
   "nbconvert_exporter": "python",
   "pygments_lexer": "ipython3",
   "version": "3.9.12"
  }
 },
 "nbformat": 4,
 "nbformat_minor": 2
}
